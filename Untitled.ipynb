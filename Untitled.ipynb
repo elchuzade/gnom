{
 "cells": [
  {
   "cell_type": "code",
   "execution_count": 1,
   "metadata": {},
   "outputs": [
    {
     "name": "stderr",
     "output_type": "stream",
     "text": [
      "Using TensorFlow backend.\n"
     ]
    }
   ],
   "source": [
    "import numpy as np\n",
    "from collections import deque\n",
    "from keras.models import Sequential\n",
    "from keras.layers import Dense\n",
    "from keras.optimizers import Adam\n",
    "from keras.models import load_model\n",
    "import random\n",
    "import time"
   ]
  },
  {
   "cell_type": "code",
   "execution_count": 2,
   "metadata": {},
   "outputs": [
    {
     "name": "stdout",
     "output_type": "stream",
     "text": [
      "pygame 1.9.6\n",
      "Hello from the pygame community. https://www.pygame.org/contribute.html\n"
     ]
    }
   ],
   "source": [
    "from core import *"
   ]
  },
  {
   "cell_type": "code",
   "execution_count": 3,
   "metadata": {},
   "outputs": [],
   "source": [
    "env = Game(mode=\"ai\", gold_amount=50, speed=5)"
   ]
  },
  {
   "cell_type": "code",
   "execution_count": 4,
   "metadata": {},
   "outputs": [],
   "source": [
    "# Initializing state size, action size, batch size and episodes\n",
    "state_size, action_size = env.describe()\n",
    "batch_size = 64\n",
    "n_episodes = 2000"
   ]
  },
  {
   "cell_type": "code",
   "execution_count": 5,
   "metadata": {},
   "outputs": [],
   "source": [
    "# Building a Deep Q Network\n",
    "class DQNAgent:\n",
    "    \n",
    "    def __init__(self, state_size, action_size):\n",
    "        self.state_size = state_size\n",
    "        self.action_size = action_size\n",
    "        # Make a list of memory of size 1000, when adding new values remove oldest values\n",
    "        self.memory = deque(maxlen=2000)\n",
    "        # Discount the future rewards to value the nearest guesses higher\n",
    "        self.gamma = 0.5\n",
    "        # Exploration rate\n",
    "        self.epsilon = 1.0\n",
    "        # Explore at the beginning first then exploit\n",
    "        self.epsilon_decay = 0.995\n",
    "        # Minimum amount of exploration\n",
    "        self.epsilon_min = 0.01\n",
    "        self.learning_rate = 0.001\n",
    "        self.model = self._build_model()\n",
    "        self.state_size = state_size\n",
    "        \n",
    "    def _build_model(self):\n",
    "        model = Sequential()\n",
    "        model.add(Dense(64, input_dim = self.state_size, activation='relu'))\n",
    "        model.add(Dense(128, activation='relu'))\n",
    "        model.add(Dense(128, activation='relu'))\n",
    "        model.add(Dense(64, activation='relu'))\n",
    "        model.add(Dense(32, activation='relu'))\n",
    "        model.add(Dense(self.action_size, activation='linear'))\n",
    "        model.compile(loss='mse', optimizer=Adam(lr=self.learning_rate))\n",
    "        return model\n",
    "\n",
    "    def remember(self, state, action, reward, next_sate, done):\n",
    "        # Save all info to the memory deque\n",
    "        self.memory.append((state, action, reward, next_state, done))\n",
    "        \n",
    "    def act(self, state):\n",
    "        # Either explore\n",
    "        if np.random.rand() <= self.epsilon:\n",
    "            return random.randrange(self.action_size)\n",
    "        # Or exploit\n",
    "        act_values = self.model.predict(state)\n",
    "        return np.argmax(act_values[0])\n",
    "    \n",
    "    def predict(self, state):\n",
    "        # Reshaping next state to save as neural network input\n",
    "        state = np.reshape(state, [1, self.state_size])\n",
    "        act_values = self.model.predict(state)\n",
    "        return np.argmax(act_values[0])\n",
    "    \n",
    "    def replay(self, batch_size):\n",
    "        # Randomly replay some of our memories from deque\n",
    "        minibatch = random.sample(self.memory, batch_size)\n",
    "        for state, action, reward, next_state, done in minibatch:\n",
    "            # If episode has ended future reward is equal to reward\n",
    "            target = reward\n",
    "            if not done:\n",
    "                # Use Neural Network to predict a future reward\n",
    "                target = (reward + self.gamma * np.amax(self.model.predict(next_state)[0]))\n",
    "            target_f = self.model.predict(state)\n",
    "            target_f[0][action] = target\n",
    "            \n",
    "            self.model.fit(state, target_f, epochs=1, verbose=0)\n",
    "            \n",
    "        # Decrease exploration\n",
    "        if self.epsilon > self.epsilon_min:\n",
    "            self.epsilon *= self.epsilon_decay\n",
    "            \n",
    "    def load(self, name):\n",
    "        self.model = load_model(name)\n",
    "        \n",
    "    def save(self, name):\n",
    "        self.model.save(name)"
   ]
  },
  {
   "cell_type": "code",
   "execution_count": 6,
   "metadata": {},
   "outputs": [
    {
     "name": "stdout",
     "output_type": "stream",
     "text": [
      "WARNING:tensorflow:From /opt/anaconda3/lib/python3.7/site-packages/keras/backend/tensorflow_backend.py:74: The name tf.get_default_graph is deprecated. Please use tf.compat.v1.get_default_graph instead.\n",
      "\n",
      "WARNING:tensorflow:From /opt/anaconda3/lib/python3.7/site-packages/keras/backend/tensorflow_backend.py:517: The name tf.placeholder is deprecated. Please use tf.compat.v1.placeholder instead.\n",
      "\n",
      "WARNING:tensorflow:From /opt/anaconda3/lib/python3.7/site-packages/keras/backend/tensorflow_backend.py:4138: The name tf.random_uniform is deprecated. Please use tf.random.uniform instead.\n",
      "\n",
      "WARNING:tensorflow:From /opt/anaconda3/lib/python3.7/site-packages/keras/optimizers.py:790: The name tf.train.Optimizer is deprecated. Please use tf.compat.v1.train.Optimizer instead.\n",
      "\n"
     ]
    }
   ],
   "source": [
    "# Initializing DQN agent\n",
    "agent = DQNAgent(state_size, action_size)"
   ]
  },
  {
   "cell_type": "code",
   "execution_count": null,
   "metadata": {
    "scrolled": false
   },
   "outputs": [],
   "source": [
    "start_time = time.time()\n",
    "times_list = []\n",
    "\n",
    "# Trainging agent to play Car Racing game\n",
    "done = False\n",
    "for e in range(n_episodes):\n",
    "    # Resetting environment in each trial\n",
    "    env.reset()\n",
    "\n",
    "    gnome_vision_flat = env.get_gnome_vision_flat()\n",
    "    \n",
    "    current_gold = env.get_gold()\n",
    "    total_exit = env.get_exit()\n",
    "    gnome = env.get_gnome()\n",
    "    gnome_prev_x = gnome_x = gnome.x\n",
    "    gnome_prev_y = gnome_y = gnome.y\n",
    "\n",
    "        \n",
    "    gnome_vision_flat.extend([current_gold, total_exit, gnome_x, gnome_y])\n",
    "    \n",
    "    # Reshaping state array into shape that neural network accepts\n",
    "    state = np.reshape(gnome_vision_flat, [1, state_size])\n",
    "    \n",
    "    step_count = 0\n",
    "    \n",
    "    if e % 100 == 0:\n",
    "        delta = time.time() - start_time\n",
    "        start_time = time.time()\n",
    "        delta = delta // 1\n",
    "        delta_min = delta // 60\n",
    "        delta_sec = delta % 60\n",
    "        times_list.append(delta)\n",
    "        print(\"Episodes: {} / {} / Time: {}:{}\".format(e, n_episodes, int(delta_min), int(delta_sec)))\n",
    "\n",
    "    for trial in range(500):\n",
    "        done = False\n",
    "        \n",
    "        # Making action based on agent's action policy\n",
    "        action = agent.act(state)\n",
    "\n",
    "        # Performing an action and assinging returned next state and whether the car ahs crashed or not\n",
    "        env.step(action)\n",
    "        step_count += 1\n",
    "        gnome_vision_flat = env.get_gnome_vision_flat()\n",
    "        \n",
    "        gold = env.get_gold()\n",
    "        exit = env.get_exit()\n",
    "        gnome = env.get_gnome()\n",
    "        gnome_x = gnome.x\n",
    "        gnome_y = gnome.y\n",
    "        \n",
    "        gnome_vision_flat.extend([gold, exit, gnome_x, gnome_y])\n",
    "        \n",
    "        # Reshaping next state to save as neural network input\n",
    "        next_state = np.reshape(gnome_vision_flat, [1, state_size])\n",
    "        \n",
    "        reward = -1\n",
    "        \n",
    "        if gnome_x == gnome_prev_x and gnome_y == gnome_prev_y:\n",
    "            reward -=2\n",
    "        \n",
    "        if gold > current_gold:\n",
    "            reward += 12\n",
    "        \n",
    "        if exit < total_exit:\n",
    "            reward += 3\n",
    "        \n",
    "        if exit == 0:\n",
    "            reward += 5\n",
    "            done = True\n",
    "            \n",
    "        gnome_prev_x = gnome_x\n",
    "        gnome_prev_y = gnome_y\n",
    "        current_gold = gold\n",
    "        total_exit = exit\n",
    "        \n",
    "        # Remember the state - action - reward - next_state - action_result combination for future recalls\n",
    "        agent.remember(state, action, reward, next_state, done)\n",
    "        # Update current state with next_state given after performing an action\n",
    "        state = next_state\n",
    "    # If the agent memory is full replay the memory\n",
    "    if len(agent.memory) > batch_size:\n",
    "        agent.replay(batch_size)\n",
    "        \n",
    "times_sum = sum(times_list)\n",
    "times_mean = times_sum / len(times_list)\n",
    "times_mean_round = times_mean // 1\n",
    "times_sum = times_sum // 1\n",
    "delta_min = times_sum // 60\n",
    "delta_sec = times_sum % 60\n",
    "\n",
    "avg_min = times_mean_round // 60\n",
    "avg_max = times_mean_round // 60\n",
    "\n",
    "print(\"Total time: {}:{} / Average: {}:{}\".format(int(delta_min), int(delta_sec), int(avg_min), int(avg_max)))"
   ]
  },
  {
   "cell_type": "code",
   "execution_count": null,
   "metadata": {},
   "outputs": [],
   "source": [
    "env.reset()"
   ]
  },
  {
   "cell_type": "code",
   "execution_count": null,
   "metadata": {},
   "outputs": [],
   "source": [
    "model_name = \"epochs_{}\".format(n_episodes) + \".h5\""
   ]
  },
  {
   "cell_type": "code",
   "execution_count": null,
   "metadata": {},
   "outputs": [],
   "source": [
    "# Save the agent model\n",
    "agent.save(model_name)"
   ]
  },
  {
   "cell_type": "code",
   "execution_count": null,
   "metadata": {},
   "outputs": [],
   "source": [
    "agent.load(model_name)"
   ]
  },
  {
   "cell_type": "code",
   "execution_count": null,
   "metadata": {},
   "outputs": [],
   "source": [
    "env.model = agent"
   ]
  },
  {
   "cell_type": "code",
   "execution_count": null,
   "metadata": {},
   "outputs": [],
   "source": [
    "env.play()"
   ]
  },
  {
   "cell_type": "code",
   "execution_count": null,
   "metadata": {},
   "outputs": [],
   "source": []
  }
 ],
 "metadata": {
  "kernelspec": {
   "display_name": "Python 3",
   "language": "python",
   "name": "python3"
  },
  "language_info": {
   "codemirror_mode": {
    "name": "ipython",
    "version": 3
   },
   "file_extension": ".py",
   "mimetype": "text/x-python",
   "name": "python",
   "nbconvert_exporter": "python",
   "pygments_lexer": "ipython3",
   "version": "3.7.4"
  }
 },
 "nbformat": 4,
 "nbformat_minor": 2
}
